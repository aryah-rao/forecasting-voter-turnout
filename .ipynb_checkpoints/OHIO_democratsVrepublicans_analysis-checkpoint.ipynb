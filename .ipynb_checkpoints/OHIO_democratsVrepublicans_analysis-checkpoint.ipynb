{
 "cells": [
  {
   "cell_type": "code",
   "execution_count": 35,
   "id": "8294ce70-6801-4d83-a481-65e9e0f63402",
   "metadata": {
    "tags": []
   },
   "outputs": [],
   "source": [
    "import pandas as pd\n",
    "import numpy as np\n",
    "import matplotlib.pyplot as plt\n",
    "import seaborn as sns"
   ]
  },
  {
   "cell_type": "markdown",
   "id": "d5d3675a-c153-44f9-919d-1b2f458a27ce",
   "metadata": {},
   "source": [
    "## Hopothesis\n",
    "\n",
    "My hypothesis would be that higher entropy within a party’s primaries could suggest that the party is more divided, which might lead to a less unified voter base. This could potentially reduce their chances of winning in the general election, as the lack of cohesion might hinder their ability to mobilize support effectively.\n",
    "\n",
    "On the other hand, lower entropy might indicate a more unified party, which could increase their chances of winning the state, as they would likely have a more cohesive voter base heading into the general election.\n",
    "\n",
    "So, if the entropy is higher in a party's primaries, the party might be at a disadvantage in terms of winning the state, assuming that voter fragmentation impacts overall suppo"
   ]
  },
  {
   "cell_type": "code",
   "execution_count": 36,
   "id": "dd052015-a4fb-4526-bc58-1c6237363581",
   "metadata": {
    "tags": []
   },
   "outputs": [],
   "source": [
    "# Reading in Data\n",
    "df_Democrats = pd.read_excel(\n",
    "    \"precinct-dem.xlsx\",\n",
    "    sheet_name=\"Master\",\n",
    "    engine=\"openpyxl\",\n",
    "    usecols=[0,1,2,7,8,9],\n",
    "    header=1,\n",
    "    skiprows=[2,3]\n",
    ")\n",
    "\n",
    "df_Republicans = pd.read_excel(\n",
    "    \"precinct-rep.xlsx\",\n",
    "    sheet_name=\"Master\",\n",
    "    engine=\"openpyxl\",\n",
    "    usecols=[1,2,7,8,9,10,11,12,13,14,15,16],\n",
    "    header=1,\n",
    "    skiprows=[2,3]\n",
    ")"
   ]
  },
  {
   "cell_type": "code",
   "execution_count": 37,
   "id": "e8280fc0-42d2-45b5-8d74-9d90f5ec1b9b",
   "metadata": {
    "tags": []
   },
   "outputs": [],
   "source": [
    "column_names_Dem = df_Democrats.columns.tolist()\n",
    "column_names_Rep = df_Republicans.columns.tolist()"
   ]
  },
  {
   "cell_type": "code",
   "execution_count": 38,
   "id": "f7126090-a73a-471b-a0c3-25c415aa6446",
   "metadata": {
    "tags": []
   },
   "outputs": [],
   "source": [
    "# Ensure numeric columns for vote calculation\n",
    "candidates_Rep = column_names_Rep[2:]  # Assume the first two columns are not candidates\n",
    "base_Rep = len(candidates_Rep)\n",
    "\n",
    "# Calculate total number of votes for Republican candidates\n",
    "df_Republicans['Total Number of Votes'] = df_Republicans[candidates_Rep].apply(pd.to_numeric, errors='coerce').sum(axis=1)\n",
    "\n",
    "# Calculate the percentage for each candidate\n",
    "for candidate in candidates_Rep:\n",
    "    percentage_col = f'{candidate.split(\" (\")[0]} %'  # Create percentage column name\n",
    "    df_Republicans[percentage_col] = (\n",
    "        df_Republicans[candidate] / df_Republicans['Total Number of Votes']\n",
    "    ).fillna(0)  # Handle NaNs by filling with 0\n",
    "\n",
    "# Create a list of percentage columns\n",
    "percentage_cols = [f'{candidate.split(\" (\")[0]} %' for candidate in candidates_Rep]\n",
    "\n",
    "# Calculate entropy using log base 3\n",
    "df_Republicans['Entropy'] = -df_Republicans[percentage_cols].apply(\n",
    "    lambda row: sum(row * np.log(row + 1e-9) / np.log(base_Rep)), axis=1\n",
    ")\n"
   ]
  },
  {
   "cell_type": "code",
   "execution_count": 39,
   "id": "9dbc4cbb-a7ad-4e38-8d9e-6af40309dda0",
   "metadata": {
    "tags": []
   },
   "outputs": [
    {
     "data": {
      "text/html": [
       "<div>\n",
       "<style scoped>\n",
       "    .dataframe tbody tr th:only-of-type {\n",
       "        vertical-align: middle;\n",
       "    }\n",
       "\n",
       "    .dataframe tbody tr th {\n",
       "        vertical-align: top;\n",
       "    }\n",
       "\n",
       "    .dataframe thead th {\n",
       "        text-align: right;\n",
       "    }\n",
       "</style>\n",
       "<table border=\"1\" class=\"dataframe\">\n",
       "  <thead>\n",
       "    <tr style=\"text-align: right;\">\n",
       "      <th></th>\n",
       "      <th>County Name</th>\n",
       "      <th>Precinct Name</th>\n",
       "      <th>Precinct Code</th>\n",
       "      <th>Hillary Clinton (D)</th>\n",
       "      <th>Roque \"Rocky\" De La Fuente (D)</th>\n",
       "      <th>Bernie Sanders (D)</th>\n",
       "    </tr>\n",
       "  </thead>\n",
       "  <tbody>\n",
       "    <tr>\n",
       "      <th>0</th>\n",
       "      <td>Adams</td>\n",
       "      <td>BRATTON TOWNSHIP</td>\n",
       "      <td>AAA</td>\n",
       "      <td>27</td>\n",
       "      <td>1</td>\n",
       "      <td>26</td>\n",
       "    </tr>\n",
       "    <tr>\n",
       "      <th>1</th>\n",
       "      <td>Adams</td>\n",
       "      <td>BRUSH CREEK TOWNSHIP</td>\n",
       "      <td>AAB</td>\n",
       "      <td>36</td>\n",
       "      <td>0</td>\n",
       "      <td>28</td>\n",
       "    </tr>\n",
       "    <tr>\n",
       "      <th>2</th>\n",
       "      <td>Adams</td>\n",
       "      <td>LOCUST GROVE</td>\n",
       "      <td>AAD</td>\n",
       "      <td>39</td>\n",
       "      <td>0</td>\n",
       "      <td>34</td>\n",
       "    </tr>\n",
       "    <tr>\n",
       "      <th>3</th>\n",
       "      <td>Adams</td>\n",
       "      <td>GREEN TOWNSHIP</td>\n",
       "      <td>AAE</td>\n",
       "      <td>35</td>\n",
       "      <td>0</td>\n",
       "      <td>22</td>\n",
       "    </tr>\n",
       "    <tr>\n",
       "      <th>4</th>\n",
       "      <td>Adams</td>\n",
       "      <td>JEFFERSON TOWNSHIP</td>\n",
       "      <td>AAG</td>\n",
       "      <td>22</td>\n",
       "      <td>1</td>\n",
       "      <td>21</td>\n",
       "    </tr>\n",
       "    <tr>\n",
       "      <th>...</th>\n",
       "      <td>...</td>\n",
       "      <td>...</td>\n",
       "      <td>...</td>\n",
       "      <td>...</td>\n",
       "      <td>...</td>\n",
       "      <td>...</td>\n",
       "    </tr>\n",
       "    <tr>\n",
       "      <th>8882</th>\n",
       "      <td>Wyandot</td>\n",
       "      <td>RIDGE TS</td>\n",
       "      <td>ABH</td>\n",
       "      <td>17</td>\n",
       "      <td>1</td>\n",
       "      <td>8</td>\n",
       "    </tr>\n",
       "    <tr>\n",
       "      <th>8883</th>\n",
       "      <td>Wyandot</td>\n",
       "      <td>SALEM TS</td>\n",
       "      <td>ABI</td>\n",
       "      <td>38</td>\n",
       "      <td>1</td>\n",
       "      <td>18</td>\n",
       "    </tr>\n",
       "    <tr>\n",
       "      <th>8884</th>\n",
       "      <td>Wyandot</td>\n",
       "      <td>SYCAMORE VILLAGE</td>\n",
       "      <td>ABJ</td>\n",
       "      <td>31</td>\n",
       "      <td>1</td>\n",
       "      <td>28</td>\n",
       "    </tr>\n",
       "    <tr>\n",
       "      <th>8885</th>\n",
       "      <td>Wyandot</td>\n",
       "      <td>SYCAMORE TS</td>\n",
       "      <td>ABL</td>\n",
       "      <td>20</td>\n",
       "      <td>1</td>\n",
       "      <td>15</td>\n",
       "    </tr>\n",
       "    <tr>\n",
       "      <th>8886</th>\n",
       "      <td>Wyandot</td>\n",
       "      <td>TYMOCHTEE TS</td>\n",
       "      <td>ABM</td>\n",
       "      <td>39</td>\n",
       "      <td>1</td>\n",
       "      <td>31</td>\n",
       "    </tr>\n",
       "  </tbody>\n",
       "</table>\n",
       "<p>8887 rows × 6 columns</p>\n",
       "</div>"
      ],
      "text/plain": [
       "     County Name         Precinct Name Precinct Code  Hillary Clinton (D)  \\\n",
       "0          Adams      BRATTON TOWNSHIP           AAA                   27   \n",
       "1          Adams  BRUSH CREEK TOWNSHIP           AAB                   36   \n",
       "2          Adams          LOCUST GROVE           AAD                   39   \n",
       "3          Adams        GREEN TOWNSHIP           AAE                   35   \n",
       "4          Adams    JEFFERSON TOWNSHIP           AAG                   22   \n",
       "...          ...                   ...           ...                  ...   \n",
       "8882     Wyandot              RIDGE TS           ABH                   17   \n",
       "8883     Wyandot              SALEM TS           ABI                   38   \n",
       "8884     Wyandot      SYCAMORE VILLAGE           ABJ                   31   \n",
       "8885     Wyandot           SYCAMORE TS           ABL                   20   \n",
       "8886     Wyandot          TYMOCHTEE TS           ABM                   39   \n",
       "\n",
       "      Roque \"Rocky\" De La Fuente (D)  Bernie Sanders (D)  \n",
       "0                                  1                  26  \n",
       "1                                  0                  28  \n",
       "2                                  0                  34  \n",
       "3                                  0                  22  \n",
       "4                                  1                  21  \n",
       "...                              ...                 ...  \n",
       "8882                               1                   8  \n",
       "8883                               1                  18  \n",
       "8884                               1                  28  \n",
       "8885                               1                  15  \n",
       "8886                               1                  31  \n",
       "\n",
       "[8887 rows x 6 columns]"
      ]
     },
     "execution_count": 39,
     "metadata": {},
     "output_type": "execute_result"
    }
   ],
   "source": [
    "df_Democrats"
   ]
  },
  {
   "cell_type": "markdown",
   "id": "9f20dedc-a78b-4e59-a706-b00c4d476d69",
   "metadata": {},
   "source": [
    "## Democrat"
   ]
  },
  {
   "cell_type": "code",
   "execution_count": 40,
   "id": "6c006769-92fe-4f91-9b91-163a1ce1a526",
   "metadata": {
    "tags": []
   },
   "outputs": [],
   "source": [
    "# Calculate total votes\n",
    "candidates_Dem = column_names_Dem[3:]\n",
    "base_Dem = len(column_names_Dem[3:])\n",
    "df_Democrats['Total Number of Votes(Dem)'] = df_Democrats[candidates_Dem].sum(axis=1)\n",
    "\n",
    "# Calculate the percentage for each candidate\n",
    "for candidate in candidates_Dem:\n",
    "    percentage_col_Dem = f'{candidate.split(\" (\")[0]} %'  # Create percentage column name\n",
    "    df_Democrats[percentage_col_Dem] = df_Democrats[candidate] / df_Democrats['Total Number of Votes(Dem)']\n",
    "\n",
    "# Calculate entropy using log base 3\n",
    "percentage_cols_Dem = [f'{candidate.split(\" (\")[0]} %' for candidate in candidates_Dem]\n",
    "df_Democrats['Entropy'] = -df_Democrats[percentage_cols_Dem].apply(\n",
    "    lambda row: sum(row * np.log(row + 1e-9) / np.log(base_Dem)), axis=1\n",
    ")\n"
   ]
  },
  {
   "cell_type": "markdown",
   "id": "92ceb188-7730-4598-be3a-51690028efab",
   "metadata": {},
   "source": [
    "## Republican"
   ]
  },
  {
   "cell_type": "code",
   "execution_count": 42,
   "id": "699b587c-6c1d-4ab7-9157-2d5f556d1e0c",
   "metadata": {
    "tags": []
   },
   "outputs": [
    {
     "name": "stderr",
     "output_type": "stream",
     "text": [
      "/var/folders/9g/ljnlr4nj5bz0qq2_9d1k5jtw0000gn/T/ipykernel_34104/3547684354.py:4: FutureWarning: Dropping of nuisance columns in DataFrame reductions (with 'numeric_only=None') is deprecated; in a future version this will raise TypeError.  Select only valid columns before calling the reduction.\n",
      "  df_Republicans['Total Number of Votes(Rep)'] = df_Republicans[column_names_Rep].sum(axis=1)\n"
     ]
    }
   ],
   "source": [
    "# Calculate total votes\n",
    "candidates_Rep = column_names_Rep[2:]\n",
    "base_Rep = len(column_names_Rep[2:])\n",
    "df_Republicans['Total Number of Votes(Rep)'] = df_Republicans[column_names_Rep].sum(axis=1)\n",
    "\n",
    "# Calculate the percentage for each candidate\n",
    "for candidate in candidates_Rep:\n",
    "    percentage_col_Rep = f'{candidate.split(\" (\")[0]} %'  # Create percentage column name\n",
    "    df_Republicans[percentage_col_Rep] = df_Republicans[candidate] / df_Republicans['Total Number of Votes(Rep)']\n",
    "\n",
    "# Calculate entropy using log base 3\n",
    "percentage_cols_Rep = [f'{candidate.split(\" (\")[0]} %' for candidate in candidates_Rep]\n",
    "df_Republicans['Entropy'] = -df_Republicans[percentage_cols].apply(\n",
    "    lambda row: sum(row * np.log(row + 1e-9) / np.log(base_Rep)), axis=1\n",
    ")"
   ]
  },
  {
   "cell_type": "code",
   "execution_count": null,
   "id": "eb42cb9e-b53d-4b58-a473-422fa76f6fa6",
   "metadata": {
    "tags": []
   },
   "outputs": [],
   "source": [
    "df_Democrats"
   ]
  },
  {
   "cell_type": "code",
   "execution_count": null,
   "id": "a6eb1906-c593-4c8a-914b-96216e7f701b",
   "metadata": {
    "tags": []
   },
   "outputs": [],
   "source": [
    "data1 = df_Democrats[\"Entropy\"]\n",
    "data2 = df_Republicans[\"Entropy\"]"
   ]
  },
  {
   "cell_type": "code",
   "execution_count": null,
   "id": "5275fca7-f137-4635-b094-5ce764124b66",
   "metadata": {
    "tags": []
   },
   "outputs": [],
   "source": [
    "# Plotting Data\n",
    "plt.hist(data1, bins=30, alpha=0.5, label='Democrats', color='blue')\n",
    "plt.hist(data2, bins=30, alpha=0.5, label='Republicans', color='red')\n",
    "\n",
    "# Add labels and a legend\n",
    "plt.xlabel('Value')\n",
    "plt.ylabel('Frequency')\n",
    "plt.title('Entropy Histogram')\n",
    "plt.legend()\n",
    "\n",
    "# Display the plot\n",
    "plt.show()"
   ]
  },
  {
   "cell_type": "code",
   "execution_count": null,
   "id": "b821a1f8-047b-4002-9656-9bd34dfc0bbb",
   "metadata": {
    "tags": []
   },
   "outputs": [],
   "source": [
    "df_Republicans.columns"
   ]
  },
  {
   "cell_type": "code",
   "execution_count": null,
   "id": "ded3e2da-cf96-400e-aa1e-4b5e9fc19bb9",
   "metadata": {
    "tags": []
   },
   "outputs": [],
   "source": [
    "# Filtering out data based on who won\n",
    "\n",
    "democrat_entropy_median = df_Democrats[\n",
    "    (df_Democrats[\"Hillary Clinton %\"] >= df_Democrats['Roque \"Rocky\" De La Fuente %']) & \n",
    "    (df_Democrats[\"Hillary Clinton %\"] >= df_Democrats[\"Bernie Sanders %\"])\n",
    "][\"Entropy\"].median()\n",
    "\n",
    "republican_entropy_median = df_Republicans[\n",
    "    (df_Republicans[\"Donald J. Trump %\"] >= df_Republicans[\"Jeb  Bush %\"]) & \n",
    "    (df_Republicans[\"Donald J. Trump %\"] >= df_Republicans[\"Ben Carson %\"]) &\n",
    "    (df_Republicans[\"Donald J. Trump %\"] >= df_Republicans[\"Chris  Christie %\"]) &\n",
    "    (df_Republicans[\"Donald J. Trump %\"] >= df_Republicans[\"Carly Fiorina %\"]) &\n",
    "    (df_Republicans[\"Donald J. Trump %\"] >= df_Republicans[\"Mike  Huckabee %\"]) &\n",
    "    (df_Republicans[\"Donald J. Trump %\"] >= df_Republicans[\"John R. Kasich %\"]) &\n",
    "    (df_Republicans[\"Donald J. Trump %\"] >= df_Republicans[\"Rick Santorum %\"]) &\n",
    "    (df_Republicans[\"Donald J. Trump %\"] >= df_Republicans[\"Ted  Cruz %\"]) &  \n",
    "    (df_Republicans[\"Donald J. Trump %\"] >= df_Republicans[\"Marco Rubio %\"])\n",
    "][\"Entropy\"].median()"
   ]
  },
  {
   "cell_type": "code",
   "execution_count": null,
   "id": "27d95bc9-952b-402f-8fac-412fec066af1",
   "metadata": {
    "tags": []
   },
   "outputs": [],
   "source": [
    "democrat_entropy_mean = df_Democrats[\n",
    "    (df_Democrats[\"Hillary Clinton %\"] >= df_Democrats['Roque \"Rocky\" De La Fuente %']) & \n",
    "    (df_Democrats[\"Hillary Clinton %\"] >= df_Democrats[\"Bernie Sanders %\"])\n",
    "][\"Entropy\"].mean()\n",
    "\n",
    "republican_entropy_mean = df_Republicans[\n",
    "    (df_Republicans[\"Donald J. Trump %\"] >= df_Republicans[\"Jeb  Bush %\"]) & \n",
    "    (df_Republicans[\"Donald J. Trump %\"] >= df_Republicans[\"Ben Carson %\"]) &\n",
    "    (df_Republicans[\"Donald J. Trump %\"] >= df_Republicans[\"Chris  Christie %\"]) &\n",
    "    (df_Republicans[\"Donald J. Trump %\"] >= df_Republicans[\"Carly Fiorina %\"]) &\n",
    "    (df_Republicans[\"Donald J. Trump %\"] >= df_Republicans[\"Mike  Huckabee %\"]) &\n",
    "    (df_Republicans[\"Donald J. Trump %\"] >= df_Republicans[\"John R. Kasich %\"]) &\n",
    "    (df_Republicans[\"Donald J. Trump %\"] >= df_Republicans[\"Rick Santorum %\"]) &\n",
    "    (df_Republicans[\"Donald J. Trump %\"] >= df_Republicans[\"Ted  Cruz %\"]) &  \n",
    "    (df_Republicans[\"Donald J. Trump %\"] >= df_Republicans[\"Marco Rubio %\"])\n",
    "][\"Entropy\"].mean()"
   ]
  },
  {
   "cell_type": "code",
   "execution_count": null,
   "id": "567d34f0-b891-423e-b980-c9cf27b876bc",
   "metadata": {
    "tags": []
   },
   "outputs": [],
   "source": [
    "# Print all 4 data pieces (median and mean) for both parties\n",
    "print(f\"Democratic Entropy Median: {democrat_entropy_median:.4f}\")\n",
    "print(f\"Republican Entropy Median: {republican_entropy_median:.4f}\")\n",
    "print(f\"Democratic Entropy Mean: {democrat_entropy_mean:.4f}\")\n",
    "print(f\"Republican Entropy Mean: {republican_entropy_mean:.4f}\")"
   ]
  },
  {
   "cell_type": "code",
   "execution_count": null,
   "id": "4807f2b4-a74d-4035-90a9-b4de3f5e3427",
   "metadata": {},
   "outputs": [],
   "source": [
    "df_Democrats"
   ]
  }
 ],
 "metadata": {
  "kernelspec": {
   "display_name": "Python 3 (ipykernel)",
   "language": "python",
   "name": "python3"
  },
  "language_info": {
   "codemirror_mode": {
    "name": "ipython",
    "version": 3
   },
   "file_extension": ".py",
   "mimetype": "text/x-python",
   "name": "python",
   "nbconvert_exporter": "python",
   "pygments_lexer": "ipython3",
   "version": "3.11.0"
  }
 },
 "nbformat": 4,
 "nbformat_minor": 5
}
