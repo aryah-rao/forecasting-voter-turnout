{
 "cells": [
  {
   "cell_type": "code",
   "execution_count": null,
   "metadata": {},
   "outputs": [],
   "source": [
    "import scrapy\n",
    "from bs4 import BeautifulSoup\n",
    "\n",
    "class PoliticianSpider(scrapy.Spider):\n",
    "    name = \"politicians\"\n",
    "    start_urls = [\n",
    "        \"https://www.senatorwebsite.com\",  # Add real politician URLs here\n",
    "        \"https://www.representativewebsite.com\"\n",
    "    ]\n",
    "\n",
    "    def parse(self, response):\n",
    "        soup = BeautifulSoup(response.text, \"html.parser\")\n",
    "        text = \" \".join([p.text for p in soup.find_all(\"p\")])\n",
    "        yield {\"url\": response.url, \"text\": text}\n"
   ]
  },
  {
   "cell_type": "code",
   "execution_count": null,
   "metadata": {},
   "outputs": [],
   "source": [
    "import json\n",
    "import pandas as pd\n",
    "import re\n",
    "import nltk\n",
    "from nltk.corpus import stopwords\n",
    "from nltk.tokenize import word_tokenize\n",
    "from transformers import BertTokenizer, BertModel\n",
    "import torch\n",
    "import numpy as np\n",
    "\n",
    "nltk.download('punkt')\n",
    "nltk.download('stopwords')\n",
    "\n",
    "# Load Scraped Data\n",
    "with open(\"politicians.json\", \"r\") as f:\n",
    "    data = json.load(f)\n",
    "\n",
    "df = pd.DataFrame(data)\n",
    "\n",
    "# Text Cleaning Function\n",
    "def clean_text(text):\n",
    "    text = re.sub(r'\\s+', ' ', text)  # Remove extra spaces\n",
    "    text = re.sub(r'\\W+', ' ', text)  # Remove special characters\n",
    "    text = text.lower()  # Convert to lowercase\n",
    "    tokens = word_tokenize(text)  # Tokenization\n",
    "    tokens = [t for t in tokens if t not in stopwords.words(\"english\")]  # Remove stopwords\n",
    "    return \" \".join(tokens)\n",
    "\n",
    "df[\"cleaned_text\"] = df[\"text\"].apply(clean_text)\n"
   ]
  },
  {
   "cell_type": "code",
   "execution_count": null,
   "metadata": {},
   "outputs": [],
   "source": [
    "from sklearn.feature_extraction.text import TfidfVectorizer\n",
    "from sklearn.decomposition import LatentDirichletAllocation\n",
    "\n",
    "# TF-IDF Feature Extraction\n",
    "tfidf_vectorizer = TfidfVectorizer(max_features=500)\n",
    "tfidf_features = tfidf_vectorizer.fit_transform(df[\"cleaned_text\"]).toarray()\n",
    "\n",
    "# BERT Embeddings\n",
    "tokenizer = BertTokenizer.from_pretrained(\"bert-base-uncased\")\n",
    "model = BertModel.from_pretrained(\"bert-base-uncased\")\n",
    "\n",
    "def get_bert_embedding(text):\n",
    "    inputs = tokenizer(text, return_tensors=\"pt\", truncation=True, max_length=512, padding=\"max_length\")\n",
    "    with torch.no_grad():\n",
    "        outputs = model(**inputs)\n",
    "    return outputs.last_hidden_state.mean(dim=1).squeeze().numpy()\n",
    "\n",
    "df[\"bert_embedding\"] = df[\"cleaned_text\"].apply(get_bert_embedding)\n",
    "\n",
    "# Topic Modeling (LDA)\n",
    "lda = LatentDirichletAllocation(n_components=5, random_state=42)\n",
    "lda_features = lda.fit_transform(tfidf_features)\n",
    "\n",
    "# Convert features into a single matrix\n",
    "X = np.hstack((tfidf_features, np.vstack(df[\"bert_embedding\"]), lda_features))\n"
   ]
  }
 ],
 "metadata": {
  "language_info": {
   "name": "python"
  }
 },
 "nbformat": 4,
 "nbformat_minor": 2
}
